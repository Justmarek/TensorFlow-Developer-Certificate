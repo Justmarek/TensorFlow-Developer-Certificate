{
  "nbformat": 4,
  "nbformat_minor": 0,
  "metadata": {
    "accelerator": "GPU",
    "colab": {
      "name": "Course 3 - Week 3 - Lesson 2.ipynb",
      "provenance": [],
      "collapsed_sections": [],
      "toc_visible": true
    },
    "kernelspec": {
      "display_name": "Python 3",
      "language": "python",
      "name": "python3"
    },
    "language_info": {
      "codemirror_mode": {
        "name": "ipython",
        "version": 3
      },
      "file_extension": ".py",
      "mimetype": "text/x-python",
      "name": "python",
      "nbconvert_exporter": "python",
      "pygments_lexer": "ipython3",
      "version": "3.7.6"
    }
  },
  "cells": [
    {
      "cell_type": "code",
      "metadata": {
        "colab_type": "code",
        "id": "zX4Kg8DUTKWO",
        "colab": {}
      },
      "source": [
        "#@title Licensed under the Apache License, Version 2.0 (the \"License\");\n",
        "# you may not use this file except in compliance with the License.\n",
        "# You may obtain a copy of the License at\n",
        "#\n",
        "# https://www.apache.org/licenses/LICENSE-2.0\n",
        "#\n",
        "# Unless required by applicable law or agreed to in writing, software\n",
        "# distributed under the License is distributed on an \"AS IS\" BASIS,\n",
        "# WITHOUT WARRANTIES OR CONDITIONS OF ANY KIND, either express or implied.\n",
        "# See the License for the specific language governing permissions and\n",
        "# limitations under the License."
      ],
      "execution_count": 1,
      "outputs": []
    },
    {
      "cell_type": "markdown",
      "metadata": {
        "id": "FytCnKpbtZmx",
        "colab_type": "text"
      },
      "source": [
        "<a href=\"https://colab.research.google.com/github/lmoroney/dlaicourse/blob/master/TensorFlow%20In%20Practice/Course%203%20-%20NLP/Course%203%20-%20Week%203%20-%20Lesson%202.ipynb\" target=\"_parent\"><img src=\"https://colab.research.google.com/assets/colab-badge.svg\" alt=\"Open In Colab\"/></a>"
      ]
    },
    {
      "cell_type": "code",
      "metadata": {
        "colab_type": "code",
        "id": "jGwXGIXvFhXW",
        "colab": {
          "base_uri": "https://localhost:8080/",
          "height": 1000
        },
        "outputId": "8d6dc685-fbab-41c7-c5f5-94703cd68f95"
      },
      "source": [
        "import numpy as np\n",
        "\n",
        "import json\n",
        "import tensorflow as tf\n",
        "\n",
        "from tensorflow.keras.preprocessing.text import Tokenizer\n",
        "from tensorflow.keras.preprocessing.sequence import pad_sequences\n",
        "\n",
        "!wget --no-check-certificate \\\n",
        "    https://storage.googleapis.com/laurencemoroney-blog.appspot.com/sarcasm.json \\\n",
        "    -O /tmp/sarcasm.json\n",
        "\n",
        "vocab_size = 1000\n",
        "embedding_dim = 16\n",
        "max_length = 120\n",
        "trunc_type='post'\n",
        "padding_type='post'\n",
        "oov_tok = \"<OOV>\"\n",
        "training_size = 20000\n",
        "\n",
        "\n",
        "with open(\"/tmp/sarcasm.json\", 'r') as f:\n",
        "    datastore = json.load(f)\n",
        "\n",
        "\n",
        "sentences = []\n",
        "labels = []\n",
        "urls = []\n",
        "for item in datastore:\n",
        "    sentences.append(item['headline'])\n",
        "    labels.append(item['is_sarcastic'])\n",
        "\n",
        "training_sentences = sentences[0:training_size]\n",
        "testing_sentences = sentences[training_size:]\n",
        "training_labels = labels[0:training_size]\n",
        "testing_labels = labels[training_size:]\n",
        "\n",
        "tokenizer = Tokenizer(num_words=vocab_size, oov_token=oov_tok)\n",
        "tokenizer.fit_on_texts(training_sentences)\n",
        "\n",
        "word_index = tokenizer.word_index\n",
        "\n",
        "training_sequences = tokenizer.texts_to_sequences(training_sentences)\n",
        "training_padded = pad_sequences(training_sequences, maxlen=max_length, padding=padding_type, truncating=trunc_type)\n",
        "\n",
        "testing_sequences = tokenizer.texts_to_sequences(testing_sentences)\n",
        "testing_padded = pad_sequences(testing_sequences, maxlen=max_length, padding=padding_type, truncating=trunc_type)\n",
        "\n",
        "model = tf.keras.Sequential([\n",
        "    tf.keras.layers.Embedding(vocab_size, embedding_dim, input_length=max_length),\n",
        "    tf.keras.layers.Bidirectional(tf.keras.layers.LSTM(32)),\n",
        "    tf.keras.layers.Dense(24, activation='relu'),\n",
        "    tf.keras.layers.Dense(1, activation='sigmoid')\n",
        "])\n",
        "model.compile(loss='binary_crossentropy',optimizer='adam',metrics=['accuracy'])\n",
        "model.summary()\n",
        "\n",
        "num_epochs = 50\n",
        "training_padded = np.array(training_padded)\n",
        "training_labels = np.array(training_labels)\n",
        "testing_padded = np.array(testing_padded)\n",
        "testing_labels = np.array(testing_labels)\n",
        "history = model.fit(training_padded, training_labels, epochs=num_epochs, validation_data=(testing_padded, testing_labels), verbose=1)\n"
      ],
      "execution_count": 2,
      "outputs": [
        {
          "output_type": "stream",
          "text": [
            "--2020-06-22 20:44:56--  https://storage.googleapis.com/laurencemoroney-blog.appspot.com/sarcasm.json\n",
            "Resolving storage.googleapis.com (storage.googleapis.com)... 64.233.188.128, 2404:6800:4008:c07::80\n",
            "Connecting to storage.googleapis.com (storage.googleapis.com)|64.233.188.128|:443... connected.\n",
            "HTTP request sent, awaiting response... 200 OK\n",
            "Length: 5643545 (5.4M) [application/json]\n",
            "Saving to: ‘/tmp/sarcasm.json’\n",
            "\n",
            "\r/tmp/sarcasm.json     0%[                    ]       0  --.-KB/s               \r/tmp/sarcasm.json   100%[===================>]   5.38M  --.-KB/s    in 0.04s   \n",
            "\n",
            "2020-06-22 20:44:56 (140 MB/s) - ‘/tmp/sarcasm.json’ saved [5643545/5643545]\n",
            "\n",
            "Model: \"sequential\"\n",
            "_________________________________________________________________\n",
            "Layer (type)                 Output Shape              Param #   \n",
            "=================================================================\n",
            "embedding (Embedding)        (None, 120, 16)           16000     \n",
            "_________________________________________________________________\n",
            "bidirectional (Bidirectional (None, 64)                12544     \n",
            "_________________________________________________________________\n",
            "dense (Dense)                (None, 24)                1560      \n",
            "_________________________________________________________________\n",
            "dense_1 (Dense)              (None, 1)                 25        \n",
            "=================================================================\n",
            "Total params: 30,129\n",
            "Trainable params: 30,129\n",
            "Non-trainable params: 0\n",
            "_________________________________________________________________\n",
            "Epoch 1/50\n",
            "625/625 [==============================] - 37s 60ms/step - loss: 0.4610 - accuracy: 0.7643 - val_loss: 0.3844 - val_accuracy: 0.8264\n",
            "Epoch 2/50\n",
            "625/625 [==============================] - 36s 58ms/step - loss: 0.3478 - accuracy: 0.8403 - val_loss: 0.3741 - val_accuracy: 0.8261\n",
            "Epoch 3/50\n",
            "625/625 [==============================] - 36s 58ms/step - loss: 0.3187 - accuracy: 0.8576 - val_loss: 0.3699 - val_accuracy: 0.8334\n",
            "Epoch 4/50\n",
            "625/625 [==============================] - 36s 58ms/step - loss: 0.3047 - accuracy: 0.8648 - val_loss: 0.3721 - val_accuracy: 0.8317\n",
            "Epoch 5/50\n",
            "625/625 [==============================] - 36s 58ms/step - loss: 0.2942 - accuracy: 0.8707 - val_loss: 0.3765 - val_accuracy: 0.8317\n",
            "Epoch 6/50\n",
            "625/625 [==============================] - 36s 58ms/step - loss: 0.2836 - accuracy: 0.8752 - val_loss: 0.3889 - val_accuracy: 0.8269\n",
            "Epoch 7/50\n",
            "625/625 [==============================] - 36s 58ms/step - loss: 0.2772 - accuracy: 0.8805 - val_loss: 0.3859 - val_accuracy: 0.8292\n",
            "Epoch 8/50\n",
            "625/625 [==============================] - 36s 58ms/step - loss: 0.2691 - accuracy: 0.8824 - val_loss: 0.4031 - val_accuracy: 0.8295\n",
            "Epoch 9/50\n",
            "625/625 [==============================] - 36s 58ms/step - loss: 0.2610 - accuracy: 0.8877 - val_loss: 0.3935 - val_accuracy: 0.8268\n",
            "Epoch 10/50\n",
            "625/625 [==============================] - 36s 58ms/step - loss: 0.2540 - accuracy: 0.8902 - val_loss: 0.4368 - val_accuracy: 0.8238\n",
            "Epoch 11/50\n",
            "625/625 [==============================] - 36s 58ms/step - loss: 0.2480 - accuracy: 0.8934 - val_loss: 0.4181 - val_accuracy: 0.8231\n",
            "Epoch 12/50\n",
            "625/625 [==============================] - 36s 58ms/step - loss: 0.2400 - accuracy: 0.8974 - val_loss: 0.4305 - val_accuracy: 0.8268\n",
            "Epoch 13/50\n",
            "625/625 [==============================] - 36s 58ms/step - loss: 0.2310 - accuracy: 0.9020 - val_loss: 0.4519 - val_accuracy: 0.8241\n",
            "Epoch 14/50\n",
            "625/625 [==============================] - 36s 58ms/step - loss: 0.2246 - accuracy: 0.9038 - val_loss: 0.4512 - val_accuracy: 0.8222\n",
            "Epoch 15/50\n",
            "625/625 [==============================] - 36s 58ms/step - loss: 0.2206 - accuracy: 0.9055 - val_loss: 0.4910 - val_accuracy: 0.8144\n",
            "Epoch 16/50\n",
            "625/625 [==============================] - 36s 58ms/step - loss: 0.2110 - accuracy: 0.9099 - val_loss: 0.4854 - val_accuracy: 0.8188\n",
            "Epoch 17/50\n",
            "625/625 [==============================] - 36s 58ms/step - loss: 0.2021 - accuracy: 0.9137 - val_loss: 0.4976 - val_accuracy: 0.8217\n",
            "Epoch 18/50\n",
            "625/625 [==============================] - 36s 58ms/step - loss: 0.1970 - accuracy: 0.9154 - val_loss: 0.5504 - val_accuracy: 0.8188\n",
            "Epoch 19/50\n",
            "625/625 [==============================] - 36s 58ms/step - loss: 0.1911 - accuracy: 0.9208 - val_loss: 0.5678 - val_accuracy: 0.8149\n",
            "Epoch 20/50\n",
            "625/625 [==============================] - 36s 58ms/step - loss: 0.1850 - accuracy: 0.9215 - val_loss: 0.5894 - val_accuracy: 0.8111\n",
            "Epoch 21/50\n",
            "625/625 [==============================] - 36s 58ms/step - loss: 0.1807 - accuracy: 0.9245 - val_loss: 0.5585 - val_accuracy: 0.8122\n",
            "Epoch 22/50\n",
            "625/625 [==============================] - 36s 58ms/step - loss: 0.1762 - accuracy: 0.9260 - val_loss: 0.5780 - val_accuracy: 0.8137\n",
            "Epoch 23/50\n",
            "625/625 [==============================] - 36s 58ms/step - loss: 0.1684 - accuracy: 0.9299 - val_loss: 0.6642 - val_accuracy: 0.8120\n",
            "Epoch 24/50\n",
            "625/625 [==============================] - 36s 58ms/step - loss: 0.1621 - accuracy: 0.9334 - val_loss: 0.7003 - val_accuracy: 0.8068\n",
            "Epoch 25/50\n",
            "625/625 [==============================] - 36s 58ms/step - loss: 0.1564 - accuracy: 0.9334 - val_loss: 0.6878 - val_accuracy: 0.8100\n",
            "Epoch 26/50\n",
            "625/625 [==============================] - 36s 58ms/step - loss: 0.1505 - accuracy: 0.9366 - val_loss: 0.7987 - val_accuracy: 0.8034\n",
            "Epoch 27/50\n",
            "625/625 [==============================] - 37s 58ms/step - loss: 0.1480 - accuracy: 0.9375 - val_loss: 0.8126 - val_accuracy: 0.8091\n",
            "Epoch 28/50\n",
            "625/625 [==============================] - 36s 58ms/step - loss: 0.1431 - accuracy: 0.9385 - val_loss: 0.8123 - val_accuracy: 0.8049\n",
            "Epoch 29/50\n",
            "625/625 [==============================] - 36s 58ms/step - loss: 0.1320 - accuracy: 0.9421 - val_loss: 0.8684 - val_accuracy: 0.8070\n",
            "Epoch 30/50\n",
            "625/625 [==============================] - 37s 58ms/step - loss: 0.1300 - accuracy: 0.9438 - val_loss: 0.8981 - val_accuracy: 0.7992\n",
            "Epoch 31/50\n",
            "625/625 [==============================] - 36s 58ms/step - loss: 0.1244 - accuracy: 0.9452 - val_loss: 0.8955 - val_accuracy: 0.8043\n",
            "Epoch 32/50\n",
            "625/625 [==============================] - 37s 59ms/step - loss: 0.1203 - accuracy: 0.9464 - val_loss: 0.9817 - val_accuracy: 0.8070\n",
            "Epoch 33/50\n",
            "625/625 [==============================] - 36s 58ms/step - loss: 0.1170 - accuracy: 0.9478 - val_loss: 1.0214 - val_accuracy: 0.8024\n",
            "Epoch 34/50\n",
            "625/625 [==============================] - 36s 58ms/step - loss: 0.1114 - accuracy: 0.9512 - val_loss: 1.0394 - val_accuracy: 0.8055\n",
            "Epoch 35/50\n",
            "625/625 [==============================] - 36s 58ms/step - loss: 0.1079 - accuracy: 0.9523 - val_loss: 1.1359 - val_accuracy: 0.8028\n",
            "Epoch 36/50\n",
            "625/625 [==============================] - 36s 58ms/step - loss: 0.1040 - accuracy: 0.9528 - val_loss: 1.1338 - val_accuracy: 0.8071\n",
            "Epoch 37/50\n",
            "625/625 [==============================] - 36s 58ms/step - loss: 0.0994 - accuracy: 0.9553 - val_loss: 1.2706 - val_accuracy: 0.8024\n",
            "Epoch 38/50\n",
            "625/625 [==============================] - 37s 58ms/step - loss: 0.0937 - accuracy: 0.9580 - val_loss: 1.2220 - val_accuracy: 0.7964\n",
            "Epoch 39/50\n",
            "625/625 [==============================] - 36s 58ms/step - loss: 0.0877 - accuracy: 0.9593 - val_loss: 1.2579 - val_accuracy: 0.7994\n",
            "Epoch 40/50\n",
            "625/625 [==============================] - 36s 58ms/step - loss: 0.0901 - accuracy: 0.9584 - val_loss: 1.3817 - val_accuracy: 0.7989\n",
            "Epoch 41/50\n",
            "625/625 [==============================] - 36s 58ms/step - loss: 0.0903 - accuracy: 0.9597 - val_loss: 1.4032 - val_accuracy: 0.7959\n",
            "Epoch 42/50\n",
            "625/625 [==============================] - 37s 58ms/step - loss: 0.0823 - accuracy: 0.9632 - val_loss: 1.4749 - val_accuracy: 0.7991\n",
            "Epoch 43/50\n",
            "625/625 [==============================] - 36s 58ms/step - loss: 0.0771 - accuracy: 0.9646 - val_loss: 1.5091 - val_accuracy: 0.7922\n",
            "Epoch 44/50\n",
            "625/625 [==============================] - 37s 59ms/step - loss: 0.0780 - accuracy: 0.9636 - val_loss: 1.5642 - val_accuracy: 0.8003\n",
            "Epoch 45/50\n",
            "625/625 [==============================] - 37s 58ms/step - loss: 0.0735 - accuracy: 0.9646 - val_loss: 1.5630 - val_accuracy: 0.7939\n",
            "Epoch 46/50\n",
            "625/625 [==============================] - 36s 58ms/step - loss: 0.0749 - accuracy: 0.9665 - val_loss: 1.5375 - val_accuracy: 0.7918\n",
            "Epoch 47/50\n",
            "625/625 [==============================] - 36s 58ms/step - loss: 0.0731 - accuracy: 0.9663 - val_loss: 1.6314 - val_accuracy: 0.7948\n",
            "Epoch 48/50\n",
            "625/625 [==============================] - 36s 58ms/step - loss: 0.0658 - accuracy: 0.9674 - val_loss: 1.6731 - val_accuracy: 0.7965\n",
            "Epoch 49/50\n",
            "625/625 [==============================] - 36s 58ms/step - loss: 0.0687 - accuracy: 0.9676 - val_loss: 1.6794 - val_accuracy: 0.7971\n",
            "Epoch 50/50\n",
            "625/625 [==============================] - 36s 58ms/step - loss: 0.0635 - accuracy: 0.9696 - val_loss: 1.7835 - val_accuracy: 0.7965\n"
          ],
          "name": "stdout"
        }
      ]
    },
    {
      "cell_type": "code",
      "metadata": {
        "colab_type": "code",
        "id": "g9DC6dmLF8DC",
        "colab": {
          "base_uri": "https://localhost:8080/",
          "height": 541
        },
        "outputId": "03bef07b-e3b8-45de-a206-f070e2311153"
      },
      "source": [
        "import matplotlib.pyplot as plt\n",
        "\n",
        "\n",
        "def plot_graphs(history, string):\n",
        "  plt.plot(history.history[string])\n",
        "  plt.plot(history.history['val_'+string])\n",
        "  plt.xlabel(\"Epochs\")\n",
        "  plt.ylabel(string)\n",
        "  plt.legend([string, 'val_'+string])\n",
        "  plt.show()\n",
        "\n",
        "plot_graphs(history, 'accuracy')\n",
        "plot_graphs(history, 'loss')"
      ],
      "execution_count": 3,
      "outputs": [
        {
          "output_type": "display_data",
          "data": {
            "image/png": "[encoded data removed]",
            "text/plain": [
              "<Figure size 432x288 with 1 Axes>"
            ]
          },
          "metadata": {
            "tags": [],
            "needs_background": "light"
          }
        },
        {
          "output_type": "display_data",
          "data": {
            "image/png": "[encoded data removed]",
            "text/plain": [
              "<Figure size 432x288 with 1 Axes>"
            ]
          },
          "metadata": {
            "tags": [],
            "needs_background": "light"
          }
        }
      ]
    },
    {
      "cell_type": "code",
      "metadata": {
        "colab_type": "code",
        "id": "7ZEZIUppGhdi",
        "colab": {}
      },
      "source": [
        "model.save(\"test.h5\")"
      ],
      "execution_count": 4,
      "outputs": []
    }
  ]
}