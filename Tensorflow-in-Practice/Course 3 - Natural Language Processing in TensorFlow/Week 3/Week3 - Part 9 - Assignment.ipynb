{
  "nbformat": 4,
  "nbformat_minor": 0,
  "metadata": {
    "accelerator": "GPU",
    "colab": {
      "name": "NLP Course - Week 3 Exercise Question.ipynb",
      "provenance": []
    },
    "kernelspec": {
      "display_name": "Python 3",
      "name": "python3"
    }
  },
  "cells": [
    {
      "cell_type": "code",
      "metadata": {
        "id": "zX4Kg8DUTKWO",
        "colab_type": "code",
        "colab": {}
      },
      "source": [
        "#@title Licensed under the Apache License, Version 2.0 (the \"License\");\n",
        "# you may not use this file except in compliance with the License.\n",
        "# You may obtain a copy of the License at\n",
        "#\n",
        "# https://www.apache.org/licenses/LICENSE-2.0\n",
        "#\n",
        "# Unless required by applicable law or agreed to in writing, software\n",
        "# distributed under the License is distributed on an \"AS IS\" BASIS,\n",
        "# WITHOUT WARRANTIES OR CONDITIONS OF ANY KIND, either express or implied.\n",
        "# See the License for the specific language governing permissions and\n",
        "# limitations under the License."
      ],
      "execution_count": 1,
      "outputs": []
    },
    {
      "cell_type": "code",
      "metadata": {
        "colab_type": "code",
        "id": "hmA6EzkQJ5jt",
        "colab": {}
      },
      "source": [
        "import json\n",
        "import tensorflow as tf\n",
        "import csv\n",
        "import random\n",
        "import numpy as np\n",
        "\n",
        "from tensorflow.keras.preprocessing.text import Tokenizer\n",
        "from tensorflow.keras.preprocessing.sequence import pad_sequences\n",
        "from tensorflow.keras.utils import to_categorical\n",
        "from tensorflow.keras import regularizers\n",
        "\n",
        "\n",
        "embedding_dim = 100\n",
        "max_length = 16\n",
        "trunc_type='post'\n",
        "padding_type='post'\n",
        "oov_tok = \"<OOV>\"\n",
        "training_size=16000\n",
        "test_portion=.1\n",
        "\n",
        "corpus = []\n"
      ],
      "execution_count": 2,
      "outputs": []
    },
    {
      "cell_type": "code",
      "metadata": {
        "colab_type": "code",
        "id": "bM0l_dORKqE0",
        "colab": {
          "base_uri": "https://localhost:8080/",
          "height": 204
        },
        "outputId": "4a4b5c0e-1e50-4122-8cf0-91d2e89af1fa"
      },
      "source": [
        "# Note that I cleaned the Stanford dataset to remove LATIN1 encoding to make it easier for Python CSV reader\n",
        "# You can do that yourself with:\n",
        "# iconv -f LATIN1 -t UTF8 training.1600000.processed.noemoticon.csv -o training_cleaned.csv\n",
        "# I then hosted it on my site to make it easier to use in this notebook\n",
        "\n",
        "!wget --no-check-certificate \\\n",
        "    https://storage.googleapis.com/laurencemoroney-blog.appspot.com/training_cleaned.csv \\\n",
        "    -O /tmp/training_cleaned.csv\n",
        "\n",
        "num_sentences = 0\n",
        "\n",
        "with open(\"/tmp/training_cleaned.csv\") as csvfile:\n",
        "    reader = csv.reader(csvfile, delimiter=',')\n",
        "    for row in reader:\n",
        "      list_item = []\n",
        "      list_item.append(row[5])\n",
        "      this_label=row[0]\n",
        "      if this_label =='0':\n",
        "        list_item.append(0)\n",
        "      else:\n",
        "        list_item.append(1)\n",
        "      num_sentences = num_sentences + 1\n",
        "      corpus.append(list_item)\n",
        "\n"
      ],
      "execution_count": 3,
      "outputs": [
        {
          "output_type": "stream",
          "text": [
            "--2020-06-27 12:09:33--  https://storage.googleapis.com/laurencemoroney-blog.appspot.com/training_cleaned.csv\n",
            "Resolving storage.googleapis.com (storage.googleapis.com)... 173.194.217.128, 64.233.170.128, 172.217.204.128, ...\n",
            "Connecting to storage.googleapis.com (storage.googleapis.com)|173.194.217.128|:443... connected.\n",
            "HTTP request sent, awaiting response... 200 OK\n",
            "Length: 238942690 (228M) [application/octet-stream]\n",
            "Saving to: ‘/tmp/training_cleaned.csv’\n",
            "\n",
            "/tmp/training_clean 100%[===================>] 227.87M  42.2MB/s    in 6.0s    \n",
            "\n",
            "2020-06-27 12:09:39 (38.3 MB/s) - ‘/tmp/training_cleaned.csv’ saved [238942690/238942690]\n",
            "\n"
          ],
          "name": "stdout"
        }
      ]
    },
    {
      "cell_type": "code",
      "metadata": {
        "colab_type": "code",
        "id": "3kxblBUjEUX-",
        "colab": {
          "base_uri": "https://localhost:8080/",
          "height": 68
        },
        "outputId": "636a7223-13dd-4c01-9615-4d2698ba3b44"
      },
      "source": [
        "print(num_sentences)\n",
        "print(len(corpus))\n",
        "print(corpus[1])\n",
        "\n",
        "# Expected Output:\n",
        "# 1600000\n",
        "# 1600000\n",
        "# [\"is upset that he can't update his Facebook by texting it... and might cry as a result  School today also. Blah!\", 0]"
      ],
      "execution_count": 4,
      "outputs": [
        {
          "output_type": "stream",
          "text": [
            "1600000\n",
            "1600000\n",
            "[\"is upset that he can't update his Facebook by texting it... and might cry as a result  School today also. Blah!\", 0]\n"
          ],
          "name": "stdout"
        }
      ]
    },
    {
      "cell_type": "code",
      "metadata": {
        "colab_type": "code",
        "id": "ohOGz24lsNAD",
        "colab": {}
      },
      "source": [
        "sentences=[]\n",
        "labels=[]\n",
        "random.shuffle(corpus)\n",
        "for x in range(training_size):\n",
        "    sentences.append(corpus[x][0])\n",
        "    labels.append(corpus[x][1])\n",
        "\n",
        "\n",
        "tokenizer = Tokenizer()\n",
        "tokenizer.fit_on_texts(sentences)\n",
        "\n",
        "word_index = tokenizer.word_index\n",
        "vocab_size=len(word_index)\n",
        "\n",
        "sequences = tokenizer.texts_to_sequences(sentences)\n",
        "padded = pad_sequences(sequences, maxlen=max_length, padding=padding_type, truncating=trunc_type)\n",
        "\n",
        "split = int(test_portion * training_size)\n",
        "\n",
        "test_sequences = padded[0:split]\n",
        "training_sequences = padded[split:training_size]\n",
        "test_labels = labels[0:split]\n",
        "training_labels = labels[split:training_size]"
      ],
      "execution_count": 7,
      "outputs": []
    },
    {
      "cell_type": "code",
      "metadata": {
        "colab_type": "code",
        "id": "gIrtRem1En3N",
        "colab": {
          "base_uri": "https://localhost:8080/",
          "height": 51
        },
        "outputId": "95b28255-33b4-43f5-97c5-f20ca52c37ca"
      },
      "source": [
        "print(vocab_size)\n",
        "print(word_index['i'])\n",
        "# Expected Output\n",
        "# 138858\n",
        "# 1"
      ],
      "execution_count": 8,
      "outputs": [
        {
          "output_type": "stream",
          "text": [
            "26774\n",
            "1\n"
          ],
          "name": "stdout"
        }
      ]
    },
    {
      "cell_type": "code",
      "metadata": {
        "colab_type": "code",
        "id": "C1zdgJkusRh0",
        "colab": {
          "base_uri": "https://localhost:8080/",
          "height": 204
        },
        "outputId": "5b3ea73e-5608-4e1a-f398-b31946335654"
      },
      "source": [
        "# Note this is the 100 dimension version of GloVe from Stanford\n",
        "# I unzipped and hosted it on my site to make this notebook easier\n",
        "!wget --no-check-certificate \\\n",
        "    https://storage.googleapis.com/laurencemoroney-blog.appspot.com/glove.6B.100d.txt \\\n",
        "    -O /tmp/glove.6B.100d.txt\n",
        "embeddings_index = {};\n",
        "with open('/tmp/glove.6B.100d.txt') as f:\n",
        "    for line in f:\n",
        "        values = line.split();\n",
        "        word = values[0];\n",
        "        coefs = np.asarray(values[1:], dtype='float32');\n",
        "        embeddings_index[word] = coefs;\n",
        "\n",
        "embeddings_matrix = np.zeros((vocab_size+1, embedding_dim));\n",
        "for word, i in word_index.items():\n",
        "    embedding_vector = embeddings_index.get(word);\n",
        "    if embedding_vector is not None:\n",
        "        embeddings_matrix[i] = embedding_vector;"
      ],
      "execution_count": 9,
      "outputs": [
        {
          "output_type": "stream",
          "text": [
            "--2020-06-27 12:17:13--  https://storage.googleapis.com/laurencemoroney-blog.appspot.com/glove.6B.100d.txt\n",
            "Resolving storage.googleapis.com (storage.googleapis.com)... 74.125.139.128, 173.194.210.128, 173.194.217.128, ...\n",
            "Connecting to storage.googleapis.com (storage.googleapis.com)|74.125.139.128|:443... connected.\n",
            "HTTP request sent, awaiting response... 200 OK\n",
            "Length: 347116733 (331M) [text/plain]\n",
            "Saving to: ‘/tmp/glove.6B.100d.txt’\n",
            "\n",
            "/tmp/glove.6B.100d. 100%[===================>] 331.04M   118MB/s    in 2.8s    \n",
            "\n",
            "2020-06-27 12:17:16 (118 MB/s) - ‘/tmp/glove.6B.100d.txt’ saved [347116733/347116733]\n",
            "\n"
          ],
          "name": "stdout"
        }
      ]
    },
    {
      "cell_type": "code",
      "metadata": {
        "colab_type": "code",
        "id": "71NLk_lpFLNt",
        "colab": {
          "base_uri": "https://localhost:8080/",
          "height": 34
        },
        "outputId": "97cb88db-754f-4375-fdc3-876cd6b4fdce"
      },
      "source": [
        "print(len(embeddings_matrix))\n",
        "# Expected Output\n",
        "# 138859"
      ],
      "execution_count": null,
      "outputs": [
        {
          "output_type": "stream",
          "text": [
            "138859\n"
          ],
          "name": "stdout"
        }
      ]
    },
    {
      "cell_type": "code",
      "metadata": {
        "colab_type": "code",
        "id": "iKKvbuEBOGFz",
        "colab": {
          "base_uri": "https://localhost:8080/",
          "height": 1000
        },
        "outputId": "f9287186-c74f-468a-ef2f-0256be5ebba4"
      },
      "source": [
        "model = tf.keras.Sequential([\n",
        "    tf.keras.layers.Embedding(vocab_size+1, embedding_dim, input_length=max_length, weights=[embeddings_matrix], trainable=False),\n",
        "    tf.keras.layers.Dropout(0.2),\n",
        "    tf.keras.layers.Conv1D(64, 5, activation='relu'),\n",
        "    tf.keras.layers.MaxPooling1D(pool_size=4),\n",
        "    tf.keras.layers.LSTM(64),\n",
        "    tf.keras.layers.Dense(1, activation='sigmoid')\n",
        "])\n",
        "model.compile(loss='binary_crossentropy',optimizer='adam',metrics=['accuracy'])\n",
        "model.summary()\n",
        "\n",
        "num_epochs = 50\n",
        "\n",
        "training_padded = np.array(training_sequences)\n",
        "training_labels = np.array(training_labels)\n",
        "testing_padded = np.array(test_sequences)\n",
        "testing_labels = np.array(test_labels)\n",
        "\n",
        "history = model.fit(training_padded, training_labels, epochs=num_epochs, validation_data=(testing_padded, testing_labels), verbose=2)\n",
        "\n",
        "print(\"Training Complete\")\n"
      ],
      "execution_count": 12,
      "outputs": [
        {
          "output_type": "stream",
          "text": [
            "Model: \"sequential_2\"\n",
            "_________________________________________________________________\n",
            "Layer (type)                 Output Shape              Param #   \n",
            "=================================================================\n",
            "embedding_2 (Embedding)      (None, 16, 100)           2677500   \n",
            "_________________________________________________________________\n",
            "dropout_1 (Dropout)          (None, 16, 100)           0         \n",
            "_________________________________________________________________\n",
            "conv1d_1 (Conv1D)            (None, 12, 64)            32064     \n",
            "_________________________________________________________________\n",
            "max_pooling1d_1 (MaxPooling1 (None, 3, 64)             0         \n",
            "_________________________________________________________________\n",
            "lstm_1 (LSTM)                (None, 64)                33024     \n",
            "_________________________________________________________________\n",
            "dense_1 (Dense)              (None, 1)                 65        \n",
            "=================================================================\n",
            "Total params: 2,742,653\n",
            "Trainable params: 65,153\n",
            "Non-trainable params: 2,677,500\n",
            "_________________________________________________________________\n",
            "Epoch 1/50\n",
            "450/450 - 2s - loss: 0.6363 - accuracy: 0.6308 - val_loss: 0.6272 - val_accuracy: 0.6156\n",
            "Epoch 2/50\n",
            "450/450 - 1s - loss: 0.5776 - accuracy: 0.6959 - val_loss: 0.5596 - val_accuracy: 0.7038\n",
            "Epoch 3/50\n",
            "450/450 - 1s - loss: 0.5478 - accuracy: 0.7135 - val_loss: 0.5568 - val_accuracy: 0.7106\n",
            "Epoch 4/50\n",
            "450/450 - 1s - loss: 0.5168 - accuracy: 0.7394 - val_loss: 0.5771 - val_accuracy: 0.6831\n",
            "Epoch 5/50\n",
            "450/450 - 1s - loss: 0.4929 - accuracy: 0.7559 - val_loss: 0.5974 - val_accuracy: 0.6725\n",
            "Epoch 6/50\n",
            "450/450 - 1s - loss: 0.4587 - accuracy: 0.7804 - val_loss: 0.6145 - val_accuracy: 0.6806\n",
            "Epoch 7/50\n",
            "450/450 - 1s - loss: 0.4332 - accuracy: 0.7946 - val_loss: 0.5742 - val_accuracy: 0.7175\n",
            "Epoch 8/50\n",
            "450/450 - 1s - loss: 0.4151 - accuracy: 0.8054 - val_loss: 0.5826 - val_accuracy: 0.7119\n",
            "Epoch 9/50\n",
            "450/450 - 1s - loss: 0.3847 - accuracy: 0.8219 - val_loss: 0.6111 - val_accuracy: 0.7094\n",
            "Epoch 10/50\n",
            "450/450 - 1s - loss: 0.3733 - accuracy: 0.8327 - val_loss: 0.6197 - val_accuracy: 0.7169\n",
            "Epoch 11/50\n",
            "450/450 - 1s - loss: 0.3536 - accuracy: 0.8411 - val_loss: 0.6564 - val_accuracy: 0.7050\n",
            "Epoch 12/50\n",
            "450/450 - 1s - loss: 0.3382 - accuracy: 0.8501 - val_loss: 0.6319 - val_accuracy: 0.7144\n",
            "Epoch 13/50\n",
            "450/450 - 1s - loss: 0.3270 - accuracy: 0.8556 - val_loss: 0.6384 - val_accuracy: 0.7212\n",
            "Epoch 14/50\n",
            "450/450 - 1s - loss: 0.3147 - accuracy: 0.8598 - val_loss: 0.6788 - val_accuracy: 0.7056\n",
            "Epoch 15/50\n",
            "450/450 - 1s - loss: 0.3056 - accuracy: 0.8615 - val_loss: 0.6476 - val_accuracy: 0.7144\n",
            "Epoch 16/50\n",
            "450/450 - 2s - loss: 0.2911 - accuracy: 0.8725 - val_loss: 0.7002 - val_accuracy: 0.7056\n",
            "Epoch 17/50\n",
            "450/450 - 2s - loss: 0.2708 - accuracy: 0.8851 - val_loss: 0.7493 - val_accuracy: 0.7131\n",
            "Epoch 18/50\n",
            "450/450 - 2s - loss: 0.2703 - accuracy: 0.8844 - val_loss: 0.7695 - val_accuracy: 0.6944\n",
            "Epoch 19/50\n",
            "450/450 - 1s - loss: 0.2619 - accuracy: 0.8863 - val_loss: 0.7146 - val_accuracy: 0.7075\n",
            "Epoch 20/50\n",
            "450/450 - 1s - loss: 0.2588 - accuracy: 0.8917 - val_loss: 0.7441 - val_accuracy: 0.6906\n",
            "Epoch 21/50\n",
            "450/450 - 1s - loss: 0.2529 - accuracy: 0.8935 - val_loss: 0.8245 - val_accuracy: 0.7069\n",
            "Epoch 22/50\n",
            "450/450 - 1s - loss: 0.2437 - accuracy: 0.8959 - val_loss: 0.7951 - val_accuracy: 0.6919\n",
            "Epoch 23/50\n",
            "450/450 - 1s - loss: 0.2389 - accuracy: 0.8990 - val_loss: 0.7760 - val_accuracy: 0.6963\n",
            "Epoch 24/50\n",
            "450/450 - 1s - loss: 0.2314 - accuracy: 0.9040 - val_loss: 0.8150 - val_accuracy: 0.6938\n",
            "Epoch 25/50\n",
            "450/450 - 1s - loss: 0.2282 - accuracy: 0.9045 - val_loss: 0.8225 - val_accuracy: 0.6894\n",
            "Epoch 26/50\n",
            "450/450 - 1s - loss: 0.2163 - accuracy: 0.9107 - val_loss: 0.8563 - val_accuracy: 0.7088\n",
            "Epoch 27/50\n",
            "450/450 - 1s - loss: 0.2156 - accuracy: 0.9115 - val_loss: 0.8243 - val_accuracy: 0.7019\n",
            "Epoch 28/50\n",
            "450/450 - 1s - loss: 0.2084 - accuracy: 0.9156 - val_loss: 0.7949 - val_accuracy: 0.6944\n",
            "Epoch 29/50\n",
            "450/450 - 1s - loss: 0.2053 - accuracy: 0.9147 - val_loss: 0.8860 - val_accuracy: 0.6938\n",
            "Epoch 30/50\n",
            "450/450 - 1s - loss: 0.2009 - accuracy: 0.9207 - val_loss: 0.8504 - val_accuracy: 0.6975\n",
            "Epoch 31/50\n",
            "450/450 - 1s - loss: 0.1877 - accuracy: 0.9222 - val_loss: 0.8347 - val_accuracy: 0.7069\n",
            "Epoch 32/50\n",
            "450/450 - 1s - loss: 0.1978 - accuracy: 0.9199 - val_loss: 0.8434 - val_accuracy: 0.7106\n",
            "Epoch 33/50\n",
            "450/450 - 1s - loss: 0.1883 - accuracy: 0.9231 - val_loss: 0.8586 - val_accuracy: 0.6938\n",
            "Epoch 34/50\n",
            "450/450 - 1s - loss: 0.1842 - accuracy: 0.9244 - val_loss: 0.8649 - val_accuracy: 0.6919\n",
            "Epoch 35/50\n",
            "450/450 - 1s - loss: 0.1800 - accuracy: 0.9268 - val_loss: 0.8899 - val_accuracy: 0.7019\n",
            "Epoch 36/50\n",
            "450/450 - 1s - loss: 0.1810 - accuracy: 0.9258 - val_loss: 0.9409 - val_accuracy: 0.7106\n",
            "Epoch 37/50\n",
            "450/450 - 1s - loss: 0.1766 - accuracy: 0.9274 - val_loss: 0.8593 - val_accuracy: 0.7031\n",
            "Epoch 38/50\n",
            "450/450 - 1s - loss: 0.1709 - accuracy: 0.9305 - val_loss: 0.9160 - val_accuracy: 0.7025\n",
            "Epoch 39/50\n",
            "450/450 - 1s - loss: 0.1745 - accuracy: 0.9312 - val_loss: 0.8757 - val_accuracy: 0.6956\n",
            "Epoch 40/50\n",
            "450/450 - 1s - loss: 0.1697 - accuracy: 0.9322 - val_loss: 0.9446 - val_accuracy: 0.6894\n",
            "Epoch 41/50\n",
            "450/450 - 1s - loss: 0.1672 - accuracy: 0.9321 - val_loss: 0.9020 - val_accuracy: 0.7006\n",
            "Epoch 42/50\n",
            "450/450 - 1s - loss: 0.1592 - accuracy: 0.9333 - val_loss: 0.9407 - val_accuracy: 0.6944\n",
            "Epoch 43/50\n",
            "450/450 - 1s - loss: 0.1539 - accuracy: 0.9370 - val_loss: 1.0039 - val_accuracy: 0.6844\n",
            "Epoch 44/50\n",
            "450/450 - 1s - loss: 0.1504 - accuracy: 0.9402 - val_loss: 1.0251 - val_accuracy: 0.7031\n",
            "Epoch 45/50\n",
            "450/450 - 1s - loss: 0.1580 - accuracy: 0.9374 - val_loss: 0.9836 - val_accuracy: 0.6806\n",
            "Epoch 46/50\n",
            "450/450 - 1s - loss: 0.1513 - accuracy: 0.9388 - val_loss: 1.0078 - val_accuracy: 0.6906\n",
            "Epoch 47/50\n",
            "450/450 - 1s - loss: 0.1444 - accuracy: 0.9418 - val_loss: 0.9904 - val_accuracy: 0.6925\n",
            "Epoch 48/50\n",
            "450/450 - 1s - loss: 0.1434 - accuracy: 0.9404 - val_loss: 1.0678 - val_accuracy: 0.6881\n",
            "Epoch 49/50\n",
            "450/450 - 1s - loss: 0.1464 - accuracy: 0.9418 - val_loss: 1.0139 - val_accuracy: 0.6913\n",
            "Epoch 50/50\n",
            "450/450 - 1s - loss: 0.1453 - accuracy: 0.9428 - val_loss: 0.9842 - val_accuracy: 0.6994\n",
            "Training Complete\n"
          ],
          "name": "stdout"
        }
      ]
    },
    {
      "cell_type": "code",
      "metadata": {
        "colab_type": "code",
        "id": "qxju4ItJKO8F",
        "colab": {
          "base_uri": "https://localhost:8080/",
          "height": 607
        },
        "outputId": "3e0c6344-5db0-4999-a7fe-9a7670d49633"
      },
      "source": [
        "import matplotlib.image  as mpimg\n",
        "import matplotlib.pyplot as plt\n",
        "\n",
        "#-----------------------------------------------------------\n",
        "# Retrieve a list of list results on training and test data\n",
        "# sets for each training epoch\n",
        "#-----------------------------------------------------------\n",
        "acc=history.history['accuracy']\n",
        "val_acc=history.history['val_accuracy']\n",
        "loss=history.history['loss']\n",
        "val_loss=history.history['val_loss']\n",
        "\n",
        "epochs=range(len(acc)) # Get number of epochs\n",
        "\n",
        "#------------------------------------------------\n",
        "# Plot training and validation accuracy per epoch\n",
        "#------------------------------------------------\n",
        "plt.plot(epochs, acc, 'r')\n",
        "plt.plot(epochs, val_acc, 'b')\n",
        "plt.title('Training and validation accuracy')\n",
        "plt.xlabel(\"Epochs\")\n",
        "plt.ylabel(\"Accuracy\")\n",
        "plt.legend([\"Accuracy\", \"Validation Accuracy\"])\n",
        "\n",
        "plt.figure()\n",
        "\n",
        "#------------------------------------------------\n",
        "# Plot training and validation loss per epoch\n",
        "#------------------------------------------------\n",
        "plt.plot(epochs, loss, 'r')\n",
        "plt.plot(epochs, val_loss, 'b')\n",
        "plt.title('Training and validation loss')\n",
        "plt.xlabel(\"Epochs\")\n",
        "plt.ylabel(\"Loss\")\n",
        "plt.legend([\"Loss\", \"Validation Loss\"])\n",
        "\n",
        "plt.figure()\n",
        "\n",
        "\n",
        "# Expected Output\n",
        "# A chart where the validation loss does not increase sharply!"
      ],
      "execution_count": 13,
      "outputs": [
        {
          "output_type": "execute_result",
          "data": {
            "text/plain": [
              "<Figure size 432x288 with 0 Axes>"
            ]
          },
          "metadata": {
            "tags": []
          },
          "execution_count": 13
        },
        {
          "output_type": "display_data",
          "data": {
            "image/png": "[encoded data removed]",
            "text/plain": [
              "<Figure size 432x288 with 1 Axes>"
            ]
          },
          "metadata": {
            "tags": [],
            "needs_background": "light"
          }
        },
        {
          "output_type": "display_data",
          "data": {
            "image/png": "[encoded data removed]",
            "text/plain": [
              "<Figure size 432x288 with 1 Axes>"
            ]
          },
          "metadata": {
            "tags": [],
            "needs_background": "light"
          }
        },
        {
          "output_type": "display_data",
          "data": {
            "text/plain": [
              "<Figure size 432x288 with 0 Axes>"
            ]
          },
          "metadata": {
            "tags": []
          }
        }
      ]
    },
    {
      "cell_type": "code",
      "metadata": {
        "id": "Z_dJv2vSub78",
        "colab_type": "code",
        "colab": {}
      },
      "source": [
        ""
      ],
      "execution_count": null,
      "outputs": []
    }
  ]
}